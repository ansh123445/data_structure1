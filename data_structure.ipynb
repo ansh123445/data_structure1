{
 "cells": [
  {
   "cell_type": "code",
   "execution_count": 1,
   "id": "d6960c98-982b-496b-acdd-d0f049b1c6f4",
   "metadata": {},
   "outputs": [
    {
     "data": {
      "text/plain": [
       "'sllikswp'"
      ]
     },
     "execution_count": 1,
     "metadata": {},
     "output_type": "execute_result"
    }
   ],
   "source": [
    "# que1.code for reversing string in pythom\n",
    "\n",
    "s=\"pwskills\"\n",
    "s[::-1]"
   ]
  },
  {
   "cell_type": "code",
   "execution_count": 2,
   "id": "844e9e1f-3c1e-4e85-a3bf-6b6aa8c633ee",
   "metadata": {},
   "outputs": [],
   "source": [
    "#que2.Write a code to count no. of vowels in string.\n",
    "\n",
    "def count(s):\n",
    "    vowels=\"aeiouAEIOU\"\n",
    "    count=0\n",
    "    for i in s:\n",
    "        if i in vowels:\n",
    "            count+=1\n",
    "    return count\n",
    "\n",
    "input_string=\"average\"\n",
    "vowel_count=count(input_string)"
   ]
  },
  {
   "cell_type": "code",
   "execution_count": 3,
   "id": "acd7013c-3720-4b4c-8d73-8b6a84fac666",
   "metadata": {},
   "outputs": [
    {
     "name": "stdout",
     "output_type": "stream",
     "text": [
      "The string is a palindrome.\n"
     ]
    }
   ],
   "source": [
    "#que3.write a code to check if a given string is a pallindrome or not.\n",
    "\n",
    "# Program to check if a string is palindrome or not\n",
    "\n",
    "my_str = 'aIbohPhoBiA'\n",
    "\n",
    "# make it suitable for caseless comparison\n",
    "my_str = my_str.casefold()\n",
    "\n",
    "# reverse the string\n",
    "rev_str = reversed(my_str)\n",
    "\n",
    "# check if the string is equal to its reverse\n",
    "if list(my_str) == list(rev_str):\n",
    "   print(\"The string is a palindrome.\")\n",
    "else:\n",
    "   print(\"The string is not a palindrome.\")\n"
   ]
  },
  {
   "cell_type": "code",
   "execution_count": 4,
   "id": "42318ccd-4475-415f-8445-dfe2c2831ade",
   "metadata": {},
   "outputs": [
    {
     "name": "stdout",
     "output_type": "stream",
     "text": [
      "anograms\n"
     ]
    }
   ],
   "source": [
    "#que4.write a code to check if two given strings are anograms of each other\n",
    "\n",
    "s1=\"listen\"\n",
    "s2=\"silent\"\n",
    "\n",
    "if (sorted(s1)==sorted(s2)):\n",
    "    print(\"anograms\")\n",
    "else:\n",
    "    print(\"not anograms\")"
   ]
  },
  {
   "cell_type": "code",
   "execution_count": 5,
   "id": "ef87ed84-90b9-417c-83b0-9d289fa574fd",
   "metadata": {},
   "outputs": [
    {
     "name": "stdout",
     "output_type": "stream",
     "text": [
      "The original string is : GeeksforGeeks is best for Geeks\n",
      "The substring to find : Geeks\n",
      "The start indices of the substrings are : [0, 8, 26]\n"
     ]
    }
   ],
   "source": [
    "#que5.Write a code to find all occurences of a given substring within another string.\n",
    "\n",
    "test_str = \"GeeksforGeeks is best for Geeks\"\n",
    "  \n",
    "# initializing substring \n",
    "test_sub = \"Geeks\"\n",
    "  \n",
    "# printing original string \n",
    "print(\"The original string is : \" + test_str) \n",
    "  \n",
    "# printing substring \n",
    "print(\"The substring to find : \" + test_sub) \n",
    "res=[] \n",
    "while(test_str.find(test_sub)!=-1): \n",
    "    res.append(test_str.find(test_sub)) \n",
    "    test_str=test_str.replace(test_sub,\"*\"*len(test_sub),1) \n",
    "  \n",
    "# printing result \n",
    "print(\"The start indices of the substrings are : \" + str(res))"
   ]
  },
  {
   "cell_type": "code",
   "execution_count": 6,
   "id": "c6ccc130-b1a2-4369-a472-598af7e3ca76",
   "metadata": {},
   "outputs": [
    {
     "name": "stdout",
     "output_type": "stream",
     "text": [
      "ab3a6c2da3b\n"
     ]
    }
   ],
   "source": [
    "#que6.Write a code to perform basic string compression using the counts of repeated characters.\n",
    "\n",
    "\n",
    "def solve(s):\n",
    "   res = \"\"\n",
    "   cnt = 1\n",
    "   for i in range(1, len(s)):\n",
    "      if s[i - 1] == s[i]:\n",
    "         cnt += 1\n",
    "      else:\n",
    "         res = res + s[i - 1]\n",
    "         if cnt > 1:\n",
    "            res += str(cnt)\n",
    "         cnt = 1\n",
    "   res = res + s[-1]\n",
    "   if cnt > 1:\n",
    "      res += str(cnt)\n",
    "   return res\n",
    "\n",
    "s = \"abbbaaaaaaccdaaab\"\n",
    "print(solve(s))\n"
   ]
  },
  {
   "cell_type": "code",
   "execution_count": 7,
   "id": "5ee7bcda-582b-4bb1-9f1c-9392cc0713a6",
   "metadata": {},
   "outputs": [
    {
     "name": "stdout",
     "output_type": "stream",
     "text": [
      "'abcdefg' has all unique characters\n"
     ]
    }
   ],
   "source": [
    "#que7.write a code to determine if a string has all unique characters.\n",
    "\n",
    "def has_unique_characters(s):\n",
    "    # Use a set to track unique characters\n",
    "    unique_chars = set()\n",
    "    for char in s:\n",
    "        if char in unique_chars:\n",
    "            return False\n",
    "        unique_chars.add(char)\n",
    "    return True\n",
    "\n",
    "# Example usage\n",
    "input_string = \"abcdefg\"\n",
    "if has_unique_characters(input_string):\n",
    "    print(f\"'{input_string}' has all unique characters\")\n",
    "else:\n",
    "    print(f\"'{input_string}' does not have all unique characters\")\n"
   ]
  },
  {
   "cell_type": "code",
   "execution_count": 8,
   "id": "8ffed218-8238-4bce-8864-5c038c744f1d",
   "metadata": {},
   "outputs": [
    {
     "name": "stdout",
     "output_type": "stream",
     "text": [
      "Original String: Vikram\n",
      "Uppercase: VIKRAM\n",
      "Lowercase: vikram\n"
     ]
    }
   ],
   "source": [
    "#que 8.write a code to convert a given string to uppercase or lowercase.\n",
    "\n",
    "def convert_case(s):\n",
    "    uppercase = s.upper()\n",
    "    lowercase = s.lower()\n",
    "    return uppercase, lowercase\n",
    "\n",
    "# Example usage\n",
    "input_string = \"Vikram\"\n",
    "upper, lower = convert_case(input_string)\n",
    "print(f\"Original String: {input_string}\")\n",
    "print(f\"Uppercase: {upper}\")\n",
    "print(f\"Lowercase: {lower}\")\n"
   ]
  },
  {
   "cell_type": "code",
   "execution_count": 9,
   "id": "0c5fc856-2005-4def-84e8-50258fcba2b4",
   "metadata": {},
   "outputs": [
    {
     "name": "stdout",
     "output_type": "stream",
     "text": [
      "Number of words in the string: 8\n"
     ]
    }
   ],
   "source": [
    "#que9.Write a code to count the number of words in a string.\n",
    "\n",
    "def count_words(s):\n",
    "    # Split the string by spaces to get a list of words\n",
    "    words = s.split()\n",
    "    # Return the number of words in the list\n",
    "    return len(words)\n",
    "\n",
    "# Example usage\n",
    "input_string = \"This is a sample string with several words\"\n",
    "word_count = count_words(input_string)\n",
    "print(f\"Number of words in the string: {word_count}\")\n"
   ]
  },
  {
   "cell_type": "code",
   "execution_count": 10,
   "id": "2fbeb541-0a90-4890-a6a9-17ac002fd26e",
   "metadata": {},
   "outputs": [
    {
     "name": "stdout",
     "output_type": "stream",
     "text": [
      "The first string is\n",
      "Welcome\n",
      "The second string is\n",
      "Tutorialspoint\n",
      "The concatenated string is\n",
      "Welcome,Tutorialspoint\n"
     ]
    }
   ],
   "source": [
    "#que10. write a code to concatenate two strings without using the + operator.\n",
    "\n",
    "str1 = \"Welcome\"\n",
    "str2 = \"Tutorialspoint\"\n",
    "\n",
    "print(\"The first string is\")\n",
    "print(str1)\n",
    "\n",
    "print(\"The second string is\")\n",
    "print(str2)\n",
    "\n",
    "concat = \",\".join([str1,str2])\n",
    "print(\"The concatenated string is\")\n",
    "print(concat)"
   ]
  },
  {
   "cell_type": "code",
   "execution_count": 11,
   "id": "b913c402-7255-4030-8607-527b9e2a0d19",
   "metadata": {},
   "outputs": [
    {
     "data": {
      "text/plain": [
       "['apple', 2.5]"
      ]
     },
     "execution_count": 11,
     "metadata": {},
     "output_type": "execute_result"
    }
   ],
   "source": [
    "#que11.write a code to remove all occurences of a specific element from a list.\n",
    "\n",
    "fruits=[\"apple\",22,2.5]\n",
    "fruits.pop(1) \n",
    "fruits"
   ]
  },
  {
   "cell_type": "code",
   "execution_count": 12,
   "id": "659ad65b-bfbb-4dca-9b00-ec17ba30d92e",
   "metadata": {},
   "outputs": [
    {
     "name": "stdout",
     "output_type": "stream",
     "text": [
      "secound largest element is 45\n"
     ]
    }
   ],
   "source": [
    "#que12.Implement a code to find the secound largest number in a given list of strings.\n",
    "\n",
    "list1=[10,20,30,40,2,8,9,7,62,45,30,2]\n",
    "\n",
    "list2=list(set(list1))\n",
    "\n",
    "list2.sort()\n",
    "\n",
    "print(\"secound largest element is\",list2[-2])"
   ]
  },
  {
   "cell_type": "code",
   "execution_count": 13,
   "id": "88bd437d-b854-4cd6-b305-70b094397a96",
   "metadata": {},
   "outputs": [
    {
     "name": "stdout",
     "output_type": "stream",
     "text": [
      "{1: 1, 2: 2, 3: 3, 4: 4}\n"
     ]
    }
   ],
   "source": [
    "#que13.Create a code to count the occurences of each element in a list and return a dictionary with elements as keys and their counts as values.\n",
    "\n",
    "def count_occurrences(elements):\n",
    "    counts = {}\n",
    "    for element in elements:\n",
    "        if element in counts:\n",
    "            counts[element] += 1\n",
    "        else:\n",
    "            counts[element] = 1\n",
    "    return counts\n",
    "\n",
    "# Example usage:\n",
    "elements = [1, 2, 2, 3, 3, 3, 4, 4, 4, 4]\n",
    "result = count_occurrences(elements)\n",
    "print(result)  # Output: {1: 1, 2: 2, 3: 3, 4: 4}\n"
   ]
  },
  {
   "cell_type": "code",
   "execution_count": 14,
   "id": "2898b6b8-307b-43a0-b143-fceefb272bcc",
   "metadata": {},
   "outputs": [
    {
     "data": {
      "text/plain": [
       "[33, 2.2, 1, 'pani puri', 'maggie', 'chole bhature', 'sweets', 'chinese']"
      ]
     },
     "execution_count": 14,
     "metadata": {},
     "output_type": "execute_result"
    }
   ],
   "source": [
    "#que14.write a code to reverse in a list in place without using any built in reverse function.\n",
    "\n",
    "street=[\"chinese\",\"sweets\",\"chole bhature\",\"maggie\",\"pani puri\",1,2.2,33]\n",
    "\n",
    "street[::-1]"
   ]
  },
  {
   "cell_type": "code",
   "execution_count": 15,
   "id": "c851bc8f-e660-4454-875f-5f0db33ac567",
   "metadata": {},
   "outputs": [
    {
     "name": "stdout",
     "output_type": "stream",
     "text": [
      "[2, 7, 40, 8, 10, 9, 45, 20, 62, 30]\n"
     ]
    }
   ],
   "source": [
    "#que15.Implement  a code to find and remove duplicates from a list while preserving the original order of elements.\n",
    "\n",
    "\n",
    "list1=[10,20,30,40,2,8,9,7,62,45,30,2]\n",
    "\n",
    "list2=list(set(list1))\n",
    "\n",
    "print(list2)\n"
   ]
  },
  {
   "cell_type": "code",
   "execution_count": 16,
   "id": "96b40629-0bce-4743-ac9b-d3cb6093fc3d",
   "metadata": {},
   "outputs": [
    {
     "name": "stdout",
     "output_type": "stream",
     "text": [
      "True\n",
      "True\n",
      "False\n"
     ]
    }
   ],
   "source": [
    "#que16.create a code to check if a given list is sorted(either in ascending or descending order) or not.\n",
    "\n",
    "\n",
    "def is_sorted(lst):\n",
    "    ascending = all(lst[i] <= lst[i + 1] for i in range(len(lst) - 1))\n",
    "    descending = all(lst[i] >= lst[i + 1] for i in range(len(lst) - 1))\n",
    "    return ascending or descending\n",
    "\n",
    "# Example usage:\n",
    "list1 = [1, 2, 3, 4, 5]\n",
    "list2 = [5, 4, 3, 2, 1]\n",
    "list3 = [1, 3, 2, 4, 5]\n",
    "\n",
    "print(is_sorted(list1))  # Output: True (ascending)\n",
    "print(is_sorted(list2))  # Output: True (descending)\n",
    "print(is_sorted(list3))  # Output: False (not sorted)\n",
    "\n",
    "\n"
   ]
  },
  {
   "cell_type": "code",
   "execution_count": 17,
   "id": "48424d49-9c1f-4c8f-b497-3a7941ab5206",
   "metadata": {},
   "outputs": [
    {
     "name": "stdout",
     "output_type": "stream",
     "text": [
      "Sorted list1: [1, 2, 3, 4, 5]\n",
      "Sorted list2: [6, 7, 8, 9, 10]\n"
     ]
    },
    {
     "data": {
      "text/plain": [
       "[1, 2, 3, 4, 5, 6, 7, 8, 9, 10]"
      ]
     },
     "execution_count": 17,
     "metadata": {},
     "output_type": "execute_result"
    }
   ],
   "source": [
    "#que17.write a code to merge two sorted list in a single sorted list.\n",
    "\n",
    "list1=[5,3,2,4,1]\n",
    "list2=[8,7,6,9,10]\n",
    "\n",
    "list1.sort()\n",
    "list2.sort()\n",
    "print(\"Sorted list1:\", list1)  # Output: [1, 2, 3, 4, 5]\n",
    "print(\"Sorted list2:\", list2)\n",
    "\n",
    "merged_list = sorted(list1 + list2)\n",
    "merged_list"
   ]
  },
  {
   "cell_type": "code",
   "execution_count": 18,
   "id": "3466500f-5ca3-420e-a7f8-86182444aadd",
   "metadata": {},
   "outputs": [
    {
     "name": "stdout",
     "output_type": "stream",
     "text": [
      "[2, 10]\n"
     ]
    }
   ],
   "source": [
    "#que18.implement a code to find the intersection of two given list.\n",
    "\n",
    "list1=[5,3,2,4,1,10]\n",
    "list2=[8,7,6,9,10,2]\n",
    "\n",
    "list3=set(list1)\n",
    "list4=set(list2)\n",
    "\n",
    "intersection_set=list3&list4\n",
    "intersection_list=list(intersection_set)\n",
    "print(intersection_list)\n",
    "\n"
   ]
  },
  {
   "cell_type": "code",
   "execution_count": 19,
   "id": "25c899c8-aa51-4ecc-8965-e049f9d30686",
   "metadata": {},
   "outputs": [
    {
     "data": {
      "text/plain": [
       "[1, 2, 3, 4, 5, 6, 7, 8, 9, 10]"
      ]
     },
     "execution_count": 19,
     "metadata": {},
     "output_type": "execute_result"
    }
   ],
   "source": [
    "#que19.create a code to find the union of two lists without duplicates.\n",
    "\n",
    "list1=[5,3,2,4,1,10]\n",
    "list2=[8,7,6,9,10,2]\n",
    "\n",
    "list3=set(list1)\n",
    "list4=set(list2)\n",
    "\n",
    "intersection_set=list3|list4\n",
    "intersection_list=list(intersection_set)\n",
    "intersection_list"
   ]
  },
  {
   "cell_type": "code",
   "execution_count": 20,
   "id": "7f7f9214-545b-44e1-808f-8c362ea6dcc7",
   "metadata": {},
   "outputs": [],
   "source": [
    "#que20.Write a code to shuffle a given list randomly without using any built in shuffle functions.\n",
    "\n",
    "def shuf(List):\n",
    "    import random\n",
    "    newList=[]\n",
    "    for i in List:\n",
    "        i=random.randrange(len(List))\n",
    "        newList+=i\n",
    "    return newList\n",
    "\n"
   ]
  },
  {
   "cell_type": "code",
   "execution_count": 21,
   "id": "480529b4-425a-4a85-b3d2-8912eb31027c",
   "metadata": {},
   "outputs": [
    {
     "name": "stdout",
     "output_type": "stream",
     "text": [
      "(4, 5)\n"
     ]
    }
   ],
   "source": [
    "#que21.write a code that takes two tuples as input and returns a new tuple containing elements that are commpon ro both input tuples.\n",
    "\n",
    "def common_elements(tuple1, tuple2):\n",
    "    # Convert the tuples to sets to find the common elements\n",
    "    set1 = set(tuple1)\n",
    "    set2 = set(tuple2)\n",
    "    \n",
    "    # Find the intersection of both sets\n",
    "    common_set = set1 & set2\n",
    "    \n",
    "    # Convert the set back to a tuple\n",
    "    common_tuple = tuple(common_set)\n",
    "    \n",
    "    return common_tuple\n",
    "\n",
    "# Example usage:\n",
    "tuple1 = (1, 2, 3, 4, 5)\n",
    "tuple2 = (4, 5, 6, 7, 8)\n",
    "\n",
    "result = common_elements(tuple1, tuple2)\n",
    "print(result)  # Output: (4, 5)\n"
   ]
  },
  {
   "cell_type": "code",
   "execution_count": 23,
   "id": "8d9c8d8c-eada-4fa5-95d5-2af7ed053cbe",
   "metadata": {},
   "outputs": [
    {
     "name": "stdin",
     "output_type": "stream",
     "text": [
      "Enter the first set of integers, separated by commas:  2\n",
      "Enter the second set of integers, separated by commas:  2\n"
     ]
    },
    {
     "name": "stdout",
     "output_type": "stream",
     "text": [
      "The intersection of the two sets is: {2}\n"
     ]
    }
   ],
   "source": [
    "#que22.create a code that prompts the user to enter two sets of integers seperated by commas.then,print intersection of these two sets.\n",
    "\n",
    "def get_set_from_input(prompt):\n",
    "   \n",
    "    input_str = input(prompt)\n",
    "    \n",
    "    \n",
    "    input_set = set(map(int, input_str.split(',')))\n",
    "    \n",
    "    return input_set\n",
    "\n",
    "set1 = get_set_from_input(\"Enter the first set of integers, separated by commas: \")\n",
    "\n",
    "# Prompt the user for the second set of integers\n",
    "set2 = get_set_from_input(\"Enter the second set of integers, separated by commas: \")\n",
    "\n",
    "\n",
    "# Find the intersection of the two sets\n",
    "intersection_set = set1 & set2\n",
    "\n",
    "# Print the intersection of the two sets\n",
    "print(\"The intersection of the two sets is:\", intersection_set)"
   ]
  },
  {
   "cell_type": "code",
   "execution_count": 24,
   "id": "ee8a5472-4e37-49f4-a807-acda58046f39",
   "metadata": {},
   "outputs": [
    {
     "name": "stdout",
     "output_type": "stream",
     "text": [
      "(1, 2, 3, 4, 5, 6)\n"
     ]
    }
   ],
   "source": [
    "#que23.Write a code to concanetate two tuples.the function should take two tiples as input and return a new tuple containing elements from both input tuples.\n",
    "def concatenate_tuples(tuple1, tuple2):\n",
    "    # Concatenate the two tuples\n",
    "    concatenated_tuple = tuple1 + tuple2\n",
    "    return concatenated_tuple\n",
    "\n",
    "# Example usage:\n",
    "tuple1 = (1, 2, 3)\n",
    "tuple2 = (4, 5, 6)\n",
    "\n",
    "result = concatenate_tuples(tuple1, tuple2)\n",
    "print(result)  # Output: (1, 2, 3, 4, 5, 6)"
   ]
  },
  {
   "cell_type": "code",
   "execution_count": 25,
   "id": "ca2c377a-49b6-4215-8ba4-2f98c6ce35eb",
   "metadata": {},
   "outputs": [
    {
     "name": "stdin",
     "output_type": "stream",
     "text": [
      "Enter the first set of strings, separated by commas:  asj,dg\n",
      "Enter the second set of strings, separated by commas:  sff,dg\n"
     ]
    },
    {
     "name": "stdout",
     "output_type": "stream",
     "text": [
      "Elements present in the first set but not in the second set: {'asj'}\n"
     ]
    }
   ],
   "source": [
    "#que24.develop a code that prompts the user to input two sets of strings.then,print the elements that are present in the first set but not in the secound set.\n",
    "\n",
    "def get_set_from_input(prompt):\n",
    "    \n",
    "    input_str = input(prompt)\n",
    "    \n",
    "   \n",
    "    input_set = set(input_str.split(','))\n",
    "    \n",
    "    return input_set\n",
    "\n",
    "\n",
    "set1 = get_set_from_input(\"Enter the first set of strings, separated by commas: \")\n",
    "\n",
    "\n",
    "set2 = get_set_from_input(\"Enter the second set of strings, separated by commas: \")\n",
    "\n",
    "difference_set = set1 - set2\n",
    "\n",
    "# Print the elements that are present in the first set but not in the second set\n",
    "print(\"Elements present in the first set but not in the second set:\", difference_set)\n"
   ]
  },
  {
   "cell_type": "code",
   "execution_count": 26,
   "id": "34951731-789c-4e16-a76f-771971d7583e",
   "metadata": {},
   "outputs": [
    {
     "name": "stdin",
     "output_type": "stream",
     "text": [
      "Enter the first set of strings, separated by commas:  str,jh\n",
      "Enter the second set of strings, separated by commas:  gyy,jh\n"
     ]
    },
    {
     "name": "stdout",
     "output_type": "stream",
     "text": [
      "Elements present in the first set but not in the second set: {'str'}\n"
     ]
    }
   ],
   "source": []
  },
  {
   "cell_type": "code",
   "execution_count": null,
   "id": "050c75e0-dbb1-49aa-bb28-f3de72723ddb",
   "metadata": {},
   "outputs": [],
   "source": [
    "#que25.create a code that takes a tuple and two integers as input.the functions should return a new tuple containing elements from the original tuple within the specified range of indices.\n",
    "\n",
    "def slice_tuple(input_tuple, start_index, end_index):\n",
    "    # Ensure the indices are within the bounds of the tuple\n",
    "    if start_index < 0 or end_index >= len(input_tuple) or start_index > end_index:\n",
    "        return ()\n",
    "    \n",
    "    # Return the sliced tuple\n",
    "    return input_tuple[start_index:end_index + 1]\n",
    "\n",
    "# Example usage:\n",
    "input_tuple = (10, 20, 30, 40, 50, 60, 70)\n",
    "start_index = 2\n",
    "end_index = 5\n",
    "\n",
    "result = slice_tuple(input_tuple, start_index, end_index)\n",
    "print(result)  # Output: (30, 40, 50, 60)\n",
    "\n"
   ]
  },
  {
   "cell_type": "code",
   "execution_count": 27,
   "id": "644369f9-6422-4160-86a0-93865d1f0144",
   "metadata": {},
   "outputs": [
    {
     "name": "stdout",
     "output_type": "stream",
     "text": [
      "(30, 40, 50, 60)\n"
     ]
    }
   ],
   "source": [
    "#que25.create a code that takes a tuple and two integers as input.the functions should return a new tuple containing elements from the original tuple within the specified range of indices.\n",
    "\n",
    "def slice_tuple(input_tuple, start_index, end_index):\n",
    "    # Ensure the indices are within the bounds of the tuple\n",
    "    if start_index < 0 or end_index >= len(input_tuple) or start_index > end_index:\n",
    "        return ()\n",
    "    \n",
    "    # Return the sliced tuple\n",
    "    return input_tuple[start_index:end_index + 1]\n",
    "\n",
    "# Example usage:\n",
    "input_tuple = (10, 20, 30, 40, 50, 60, 70)\n",
    "start_index = 2\n",
    "end_index = 5\n",
    "\n",
    "result = slice_tuple(input_tuple, start_index, end_index)\n",
    "print(result)  # Output: (30, 40, 50, 60)\n",
    "\n"
   ]
  },
  {
   "cell_type": "code",
   "execution_count": 28,
   "id": "6dff4824-fc2a-4cd8-b012-f72922842bfa",
   "metadata": {},
   "outputs": [
    {
     "name": "stdin",
     "output_type": "stream",
     "text": [
      "Enter the first set of characters, separated by commas:  abcd,g\n",
      "Enter the second set of characters, separated by commas:  dgs,gf\n"
     ]
    },
    {
     "name": "stdout",
     "output_type": "stream",
     "text": [
      "The union of the two sets is: {'gf', 'dgs', 'abcd', 'g'}\n"
     ]
    }
   ],
   "source": [
    "#que26.Write a code that prompts the user to input two sets of characters.then,print the union of these two sets.\n",
    "\n",
    "def get_set_from_input(prompt):\n",
    "    # Prompt the user to enter a set of characters separated by commas\n",
    "    input_str = input(prompt)\n",
    "    \n",
    "    # Convert the input string to a set of characters\n",
    "    input_set = set(input_str.split(','))\n",
    "    \n",
    "    return input_set\n",
    "\n",
    "# Prompt the user for the first set of characters\n",
    "set1 = get_set_from_input(\"Enter the first set of characters, separated by commas: \")\n",
    "\n",
    "# Prompt the user for the second set of characters\n",
    "set2 = get_set_from_input(\"Enter the second set of characters, separated by commas: \")\n",
    "\n",
    "# Find the union of the two sets\n",
    "union_set = set1 | set2  # or use set1.union(set2)\n",
    "\n",
    "# Print the union of the two sets\n",
    "print(\"The union of the two sets is:\", union_set)\n",
    "\n"
   ]
  },
  {
   "cell_type": "code",
   "execution_count": 29,
   "id": "7d448e15-c766-400d-9f8d-ea26bf7a4616",
   "metadata": {},
   "outputs": [
    {
     "name": "stdout",
     "output_type": "stream",
     "text": [
      "Maximum value: 50\n",
      "Minimum value: 10\n"
     ]
    }
   ],
   "source": [
    "#que27.Develop a code that makes a tuple of integers as input.The function should return the maximum and minimum values from the tuple using tuple unpacking.\n",
    "\n",
    "def find_max_min(input_tuple):\n",
    "    if not input_tuple:\n",
    "        raise ValueError(\"The tuple is empty and has no maximum or minimum value.\")\n",
    "    \n",
    "    # Find the maximum and minimum values\n",
    "    max_value = max(input_tuple)\n",
    "    min_value = min(input_tuple)\n",
    "    \n",
    "    # Return the maximum and minimum values as a tuple\n",
    "    return max_value, min_value\n",
    "\n",
    "# Example usage:\n",
    "input_tuple = (10, 20, 30, 40, 50)\n",
    "\n",
    "# Get the maximum and minimum values\n",
    "max_value, min_value = find_max_min(input_tuple)\n",
    "\n",
    "print(\"Maximum value:\", max_value)  # Output: 50\n",
    "print(\"Minimum value:\", min_value)  # Output: 10\n",
    "\n"
   ]
  },
  {
   "cell_type": "code",
   "execution_count": 30,
   "id": "9c65da0c-025e-4e40-8b11-7c60949fad69",
   "metadata": {},
   "outputs": [
    {
     "name": "stdout",
     "output_type": "stream",
     "text": [
      "Union of the sets: {1, 2, 3, 4, 5, 6, 7, 8}\n",
      "Intersection of the sets: {4, 5}\n",
      "Difference (set1 - set2): {1, 2, 3}\n",
      "Difference (set2 - set1): {8, 6, 7}\n"
     ]
    }
   ],
   "source": [
    "#que28.create a code that defines two set of intgers.then,print the union intersection and differences of these two sets.\n",
    "\n",
    "def print_set_operations(set1, set2):\n",
    "    # Compute the union of the two sets\n",
    "    union_set = set1 | set2\n",
    "    \n",
    "    # Compute the intersection of the two sets\n",
    "    intersection_set = set1 & set2\n",
    "    \n",
    "    # Compute the difference between the two sets\n",
    "    difference_set1 = set1 - set2\n",
    "    difference_set2 = set2 - set1\n",
    "    \n",
    "    # Print the results\n",
    "    print(\"Union of the sets:\", union_set)\n",
    "    print(\"Intersection of the sets:\", intersection_set)\n",
    "    print(\"Difference (set1 - set2):\", difference_set1)\n",
    "    print(\"Difference (set2 - set1):\", difference_set2)\n",
    "\n",
    "# Example usage:\n",
    "set1 = {1, 2, 3, 4, 5}\n",
    "set2 = {4, 5, 6, 7, 8}\n",
    "\n",
    "print_set_operations(set1, set2)\n"
   ]
  },
  {
   "cell_type": "code",
   "execution_count": 31,
   "id": "859182dd-e3a5-42d7-8052-865c42c393b5",
   "metadata": {},
   "outputs": [
    {
     "name": "stdout",
     "output_type": "stream",
     "text": [
      "The element 2 occurs 3 times in the tuple.\n"
     ]
    }
   ],
   "source": [
    "#que29.Write a code that takes a tuple and an element as input the function should return the count of occurences of the given elements in the tuple.\n",
    "\n",
    "def count_occurrences(input_tuple, element):\n",
    "    # Count the occurrences of the element in the tuple\n",
    "    count = input_tuple.count(element)\n",
    "    return count\n",
    "\n",
    "# Example usage:\n",
    "input_tuple = (1, 2, 3, 4, 5, 2, 2, 6)\n",
    "element = 2\n",
    "\n",
    "# Get the count of occurrences of the element\n",
    "occurrences = count_occurrences(input_tuple, element)\n",
    "print(f\"The element {element} occurs {occurrences} times in the tuple.\")\n"
   ]
  },
  {
   "cell_type": "code",
   "execution_count": 32,
   "id": "593e2340-3d1c-4bde-b7e9-f78f79d7aedc",
   "metadata": {},
   "outputs": [
    {
     "name": "stdin",
     "output_type": "stream",
     "text": [
      "Enter the first set of integers, separated by commas:  12,45\n",
      "Enter the second set of integers, separated by commas:  52,64\n"
     ]
    },
    {
     "name": "stdout",
     "output_type": "stream",
     "text": [
      "The symmetric difference of the two sets is: {64, 45, 52, 12}\n"
     ]
    }
   ],
   "source": [
    "#que30.Develop a code that prompts the user to input of two sets of integers.then print the symmetric difference of these two sets.\n",
    "\n",
    "\n",
    "def get_set_from_input(prompt):\n",
    "    # Prompt the user to enter a set of integers separated by commas\n",
    "    input_str = input(prompt)\n",
    "    \n",
    "    # Convert the input string to a set of integers\n",
    "    input_set = set(map(int, input_str.split(',')))\n",
    "    \n",
    "    return input_set\n",
    "\n",
    "# Prompt the user for the first set of integers\n",
    "set1 = get_set_from_input(\"Enter the first set of integers, separated by commas: \")\n",
    "\n",
    "# Prompt the user for the second set of integers\n",
    "set2 = get_set_from_input(\"Enter the second set of integers, separated by commas: \")\n",
    "\n",
    "# Find the symmetric difference of the two sets\n",
    "symmetric_difference = set1 ^ set2  # or use set1.symmetric_difference(set2)\n",
    "\n",
    "# Print the symmetric difference\n",
    "print(\"The symmetric difference of the two sets is:\", symmetric_difference)\n"
   ]
  },
  {
   "cell_type": "code",
   "execution_count": 33,
   "id": "6070302e-5218-4ba7-abe2-49c63d9db49b",
   "metadata": {},
   "outputs": [
    {
     "name": "stdout",
     "output_type": "stream",
     "text": [
      "{'apple': 3, 'banana': 2, 'orange': 1}\n"
     ]
    }
   ],
   "source": [
    "#que31.write a code that takes a list of words as input and returns a dictionary where the keys are unique words and the values are the frequencies of these words in the input list.\n",
    "\n",
    "def word_frequencies(word_list):\n",
    "    # Initialize an empty dictionary to store word frequencies\n",
    "    frequency_dict = {}\n",
    "    \n",
    "    # Iterate through each word in the list\n",
    "    for word in word_list:\n",
    "        # If the word is already in the dictionary, increment its count\n",
    "        if word in frequency_dict:\n",
    "            frequency_dict[word] += 1\n",
    "        # Otherwise, add the word to the dictionary with a count of 1\n",
    "        else:\n",
    "            frequency_dict[word] = 1\n",
    "    \n",
    "    return frequency_dict\n",
    "\n",
    "# Example usage:\n",
    "input_list = ['apple', 'banana', 'apple', 'orange', 'banana', 'apple']\n",
    "result = word_frequencies(input_list)\n",
    "print(result)\n"
   ]
  },
  {
   "cell_type": "code",
   "execution_count": 34,
   "id": "155b88e9-7cdc-426c-bb28-b0da3efdc512",
   "metadata": {},
   "outputs": [
    {
     "name": "stdout",
     "output_type": "stream",
     "text": [
      "{'a': 1, 'b': 5, 'c': 7, 'd': 5}\n"
     ]
    }
   ],
   "source": [
    "#que32.write a code that takes two dictionaries as input and merges them into a single dictionaries.if there are common keys,the values should be added together.\n",
    "\n",
    "def merge_dicts(dict1, dict2):\n",
    "    # Create a new dictionary to store the merged result\n",
    "    merged_dict = {}\n",
    "\n",
    "    # Add all items from the first dictionary to the merged dictionary\n",
    "    for key in dict1:\n",
    "        merged_dict[key] = dict1[key]\n",
    "\n",
    "    # Add items from the second dictionary to the merged dictionary\n",
    "    for key in dict2:\n",
    "        if key in merged_dict:\n",
    "            # If the key is already in the merged dictionary, add the values\n",
    "            merged_dict[key] += dict2[key]\n",
    "        else:\n",
    "            # If the key is not in the merged dictionary, add it\n",
    "            merged_dict[key] = dict2[key]\n",
    "\n",
    "    return merged_dict\n",
    "\n",
    "# Example usage:\n",
    "dict1 = {'a': 1, 'b': 2, 'c': 3}\n",
    "dict2 = {'b': 3, 'c': 4, 'd': 5}\n",
    "\n",
    "result = merge_dicts(dict1, dict2)\n",
    "print(result)\n"
   ]
  },
  {
   "cell_type": "code",
   "execution_count": 35,
   "id": "de0b8901-51b3-4a5d-a0a4-0be8652b0dfa",
   "metadata": {},
   "outputs": [
    {
     "ename": "SyntaxError",
     "evalue": "invalid syntax (2854731298.py, line 38)",
     "output_type": "error",
     "traceback": [
      "\u001b[0;36m  Cell \u001b[0;32mIn[35], line 38\u001b[0;36m\u001b[0m\n\u001b[0;31m    .\u001b[0m\n\u001b[0m    ^\u001b[0m\n\u001b[0;31mSyntaxError\u001b[0m\u001b[0;31m:\u001b[0m invalid syntax\n"
     ]
    }
   ],
   "source": [
    "#que33.write a code to access a value in a nested dictionary.the function should take the dictionaty and a list of keys as input and return the corresponding value.if any of the keys do not exist in the dictionary,the function should return none\n",
    "\n",
    "\n",
    "def access_nested_dict(dictionary, keys):\n",
    "    # Start with the input dictionary\n",
    "    current_level = dictionary\n",
    "    \n",
    "    # Iterate over the list of keys\n",
    "    for key in keys:\n",
    "        # Check if the key exists in the current level\n",
    "        if key in current_level:\n",
    "            # Move to the next level in the dictionary\n",
    "            current_level = current_level[key]\n",
    "        else:\n",
    "            # If the key does not exist, return None\n",
    "            return None\n",
    "    \n",
    "    # Return the value found after traversing all keys\n",
    "    return current_level\n",
    "\n",
    "# Example usage:\n",
    "nested_dict = {\n",
    "    'a': {\n",
    "        'b': {\n",
    "            'c': 10\n",
    "        }\n",
    "    }\n",
    "}\n",
    "\n",
    "keys = ['a', 'b', 'c']\n",
    "result = access_nested_dict(nested_dict, keys)\n",
    "print(result)  # Output: 10\n",
    "\n",
    "# Example with a missing key\n",
    "keys = ['a', 'b', 'x']\n",
    "result = access_nested_dict(nested_dict, keys)\n",
    "print(result)  # Output: None\n",
    "."
   ]
  },
  {
   "cell_type": "code",
   "execution_count": 36,
   "id": "d102558d-c3a4-4c06-a4e4-2abc7066d4c1",
   "metadata": {},
   "outputs": [
    {
     "name": "stdout",
     "output_type": "stream",
     "text": [
      "Sorted in ascending order: {'date': 1, 'banana': 2, 'apple': 5, 'cherry': 7}\n",
      "Sorted in descending order: {'cherry': 7, 'apple': 5, 'banana': 2, 'date': 1}\n"
     ]
    }
   ],
   "source": [
    "#que34.write a code that takes a dictionary as input and return a sorted version of it based on the values.you can choose whether to sort in acending or descending order.\n",
    "\n",
    "\n",
    "def sort_dict_by_values(d, ascending=True):\n",
    "    # Sort the dictionary by values\n",
    "    sorted_dict = dict(sorted(d.items(), key=lambda item: item[1], reverse=not ascending))\n",
    "    return sorted_dict\n",
    "\n",
    "# Example usage:\n",
    "input_dict = {'apple': 5, 'banana': 2, 'cherry': 7, 'date': 1}\n",
    "\n",
    "# Sort in ascending order\n",
    "sorted_dict_asc = sort_dict_by_values(input_dict, ascending=True)\n",
    "print(\"Sorted in ascending order:\", sorted_dict_asc)\n",
    "\n",
    "# Sort in descending order\n",
    "sorted_dict_desc = sort_dict_by_values(input_dict, ascending=False)\n",
    "print(\"Sorted in descending order:\", sorted_dict_desc)\n"
   ]
  },
  {
   "cell_type": "code",
   "execution_count": 37,
   "id": "3cc363bd-56f4-46bd-9565-a64e92f1472a",
   "metadata": {},
   "outputs": [
    {
     "name": "stdout",
     "output_type": "stream",
     "text": [
      "{1: ['a', 'c'], 2: ['b'], 3: ['d']}\n"
     ]
    }
   ],
   "source": [
    "#que35.write a codethat inverts a dictionary,swapping keys and values ensure that the inverted dictionary correctly handles cases where multiple keys have the same value by storing the keys as a list in the inverted dictionary.\n",
    "\n",
    "\n",
    "def invert_dict(d):\n",
    "    inverted_dict = {}\n",
    "    \n",
    "    for key, value in d.items():\n",
    "        # If the value is already a key in the inverted dictionary, append the current key to the list\n",
    "        if value in inverted_dict:\n",
    "            inverted_dict[value].append(key)\n",
    "        else:\n",
    "            # Otherwise, create a new entry with the current key in a list\n",
    "            inverted_dict[value] = [key]\n",
    "    \n",
    "    return inverted_dict\n",
    "\n",
    "# Example usage:\n",
    "original_dict = {'a': 1, 'b': 2, 'c': 1, 'd': 3}\n",
    "\n",
    "# Invert the dictionary\n",
    "inverted_dict = invert_dict(original_dict)\n",
    "print(inverted_dict)\n"
   ]
  },
  {
   "cell_type": "code",
   "execution_count": null,
   "id": "6ed68a71-8dd4-4c37-941d-12f0dbafb78e",
   "metadata": {},
   "outputs": [],
   "source": []
  }
 ],
 "metadata": {
  "kernelspec": {
   "display_name": "Python 3 (ipykernel)",
   "language": "python",
   "name": "python3"
  },
  "language_info": {
   "codemirror_mode": {
    "name": "ipython",
    "version": 3
   },
   "file_extension": ".py",
   "mimetype": "text/x-python",
   "name": "python",
   "nbconvert_exporter": "python",
   "pygments_lexer": "ipython3",
   "version": "3.10.8"
  }
 },
 "nbformat": 4,
 "nbformat_minor": 5
}
